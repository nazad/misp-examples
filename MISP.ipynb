{
 "cells": [
  {
   "cell_type": "markdown",
   "metadata": {},
   "source": [
    "# MISP and Jupyter Notebooks\n",
    "\n",
    "Here we will briefly see how to use Jupyter Notebooks to integrate with MISP.\n",
    "\n",
    "First, how to connect? \n",
    "\n",
    "Having a running instance of MISP, we'll need the server address and an API key.\n",
    "\n",
    "The snippet bellow show ao to connect."
   ]
  },
  {
   "cell_type": "code",
   "execution_count": 4,
   "metadata": {},
   "outputs": [
    {
     "name": "stdout",
     "output_type": "stream",
     "text": [
      "We did!\n"
     ]
    }
   ],
   "source": [
    "from pymisp import PyMISP\n",
    "import urllib3\n",
    "# Cleaner logs\n",
    "urllib3.disable_warnings()\n",
    "\n",
    "api_key = 'VpsWeu2TsfqLQ5BTfk2BgRIw6Ca6rj3vzJlIj4TX'\n",
    "\n",
    "misp = PyMISP('https://localhost', api_key, False)\n",
    "\n",
    "events = misp.events(pythonify=True)\n",
    "\n",
    "for e in events:\n",
    "    print(f'Event: {e.to_json()}')\n",
    "\n",
    "print('We did!')"
   ]
  },
  {
   "cell_type": "markdown",
   "metadata": {},
   "source": [
    "Now lets see how we can add new events using the library."
   ]
  },
  {
   "cell_type": "code",
   "execution_count": 9,
   "metadata": {},
   "outputs": [
    {
     "name": "stdout",
     "output_type": "stream",
     "text": [
      "Event created; \"{\\\"uuid\\\": \\\"d6bd1328-bb34-4125-a530-a4d417efd7df\\\", \\\"info\\\": \\\"Event from a Jupyter Analysis\\\", \\\"distribution\\\": \\\"0\\\", \\\"threat_level_id\\\": \\\"1\\\", \\\"analysis\\\": \\\"0\\\", \\\"published\\\": false, \\\"date\\\": \\\"2024-12-03\\\", \\\"id\\\": \\\"8\\\", \\\"orgc_id\\\": \\\"1\\\", \\\"org_id\\\": \\\"1\\\", \\\"timestamp\\\": \\\"1733250554\\\", \\\"publish_timestamp\\\": \\\"0\\\", \\\"sharing_group_id\\\": \\\"0\\\", \\\"Org\\\": {\\\"id\\\": \\\"1\\\", \\\"name\\\": \\\"ADMIN\\\", \\\"uuid\\\": \\\"d0108972-fabc-4deb-9ab4-f26045dda3e0\\\", \\\"local\\\": true}, \\\"Orgc\\\": {\\\"id\\\": \\\"1\\\", \\\"name\\\": \\\"ADMIN\\\", \\\"uuid\\\": \\\"d0108972-fabc-4deb-9ab4-f26045dda3e0\\\", \\\"local\\\": true}, \\\"attribute_count\\\": \\\"0\\\", \\\"proposal_email_lock\\\": false, \\\"locked\\\": false, \\\"disable_correlation\\\": false, \\\"extends_uuid\\\": \\\"\\\", \\\"event_creator_email\\\": \\\"nazareno.duarte@gmail.com\\\"}\"\n"
     ]
    }
   ],
   "source": [
    "from pymisp import MISPEvent\n",
    "import json\n",
    "\n",
    "event = MISPEvent()\n",
    "event.distribution = '0'\n",
    "event.threat_level_id = '1'\n",
    "event.analysis = '0'\n",
    "event.info = 'Event from a Jupyter Analysis'\n",
    "event.attributes = []\n",
    "\n",
    "created = None\n",
    "\n",
    "try:\n",
    "    created = misp.add_event(event, pythonify=True)\n",
    "    print(f'Event created; {json.dumps(created.to_json(), indent=4)}')\n",
    "except Exception as e:\n",
    "    print(f'If we se this, an error ocurred {repr(e)}')"
   ]
  },
  {
   "cell_type": "markdown",
   "metadata": {},
   "source": [
    "Finally, let's se a list of the events, again."
   ]
  },
  {
   "cell_type": "code",
   "execution_count": 14,
   "metadata": {},
   "outputs": [],
   "source": [
    "events = misp.events(pythonify=True)\n",
    "\n",
    "for e in events:\n",
    "    print(f'Event: {json.dumps(e.to_json())}')"
   ]
  },
  {
   "cell_type": "markdown",
   "metadata": {},
   "source": [
    "Now we gonna try to remove all event created in te steps above."
   ]
  },
  {
   "cell_type": "code",
   "execution_count": 13,
   "metadata": {},
   "outputs": [
    {
     "name": "stdout",
     "output_type": "stream",
     "text": [
      "Event deleted: 434f0acf-97b3-458a-9fe8-675e686a515c\n",
      "Event deleted: 97c46b1f-561b-46d5-b155-8453e98230d3\n",
      "Event deleted: 1df72f8d-5055-44f0-b679-6be9edeb98e0\n",
      "Event deleted: 5510c2c7-ba62-4559-8c03-74cd0b264eff\n",
      "Event deleted: 6b8974e7-0aa9-4281-a93f-04fb553da849\n",
      "Event deleted: d6bd1328-bb34-4125-a530-a4d417efd7df\n"
     ]
    }
   ],
   "source": [
    "events = misp.events(pythonify=True)\n",
    "\n",
    "for e in events:\n",
    "    try:\n",
    "        misp.delete_event(e.uuid)\n",
    "        print(f'Event deleted: {e.uuid}')\n",
    "    except Exception as e:\n",
    "        print(f'If we see this, an error has occured: {repr(e)}')"
   ]
  }
 ],
 "metadata": {
  "kernelspec": {
   "display_name": ".env",
   "language": "python",
   "name": "python3"
  },
  "language_info": {
   "codemirror_mode": {
    "name": "ipython",
    "version": 3
   },
   "file_extension": ".py",
   "mimetype": "text/x-python",
   "name": "python",
   "nbconvert_exporter": "python",
   "pygments_lexer": "ipython3",
   "version": "3.11.2"
  }
 },
 "nbformat": 4,
 "nbformat_minor": 2
}
