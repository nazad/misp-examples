{
 "cells": [
  {
   "cell_type": "markdown",
   "metadata": {},
   "source": [
    "# MISP and Jupyter Notebooks\n",
    "\n",
    "Here we will briefly see how to use Jupyter Notebooks to integrate with MISP.\n",
    "\n",
    "First, how to connect? \n",
    "\n",
    "Having a running instance of MISP, we'll need the server address and an API key.\n",
    "\n",
    "The snippet bellow show ao to connect."
   ]
  },
  {
   "cell_type": "code",
   "execution_count": 1,
   "metadata": {},
   "outputs": [
    {
     "name": "stdout",
     "output_type": "stream",
     "text": [
      "Event: {\n",
      "    \"uuid\": \"4df8e7dc-49a3-4a08-a586-5c5b3616982a\",\n",
      "    \"info\": \"Test Event\",\n",
      "    \"distribution\": \"0\",\n",
      "    \"threat_level_id\": \"1\",\n",
      "    \"analysis\": \"0\",\n",
      "    \"published\": false,\n",
      "    \"date\": \"2024-12-03\",\n",
      "    \"id\": \"9\",\n",
      "    \"orgc_id\": \"1\",\n",
      "    \"org_id\": \"1\",\n",
      "    \"timestamp\": \"1733254718\",\n",
      "    \"publish_timestamp\": \"0\",\n",
      "    \"sighting_timestamp\": \"0\",\n",
      "    \"sharing_group_id\": \"0\",\n",
      "    \"Org\": {\n",
      "        \"id\": \"1\",\n",
      "        \"name\": \"ADMIN\",\n",
      "        \"uuid\": \"d0108972-fabc-4deb-9ab4-f26045dda3e0\"\n",
      "    },\n",
      "    \"Orgc\": {\n",
      "        \"id\": \"1\",\n",
      "        \"name\": \"ADMIN\",\n",
      "        \"uuid\": \"d0108972-fabc-4deb-9ab4-f26045dda3e0\"\n",
      "    },\n",
      "    \"attribute_count\": \"1\",\n",
      "    \"proposal_email_lock\": false,\n",
      "    \"locked\": false,\n",
      "    \"disable_correlation\": false,\n",
      "    \"extends_uuid\": \"\"\n",
      "}\n",
      "We did!\n"
     ]
    }
   ],
   "source": [
    "from pymisp import PyMISP\n",
    "import urllib3\n",
    "# Cleaner logs\n",
    "urllib3.disable_warnings()\n",
    "\n",
    "api_key = 'VpsWeu2TsfqLQ5BTfk2BgRIw6Ca6rj3vzJlIj4TX'\n",
    "\n",
    "misp = PyMISP('https://localhost', api_key, False)\n",
    "\n",
    "events = misp.events(pythonify=True)\n",
    "\n",
    "for e in events:\n",
    "    print(f'Event: {e.to_json(indent=4)}')\n",
    "\n",
    "print('We did!')"
   ]
  },
  {
   "cell_type": "markdown",
   "metadata": {},
   "source": [
    "Now lets see how we can add new events using the library."
   ]
  },
  {
   "cell_type": "code",
   "execution_count": 2,
   "metadata": {},
   "outputs": [
    {
     "name": "stdout",
     "output_type": "stream",
     "text": [
      "Event created; {\n",
      "    \"uuid\": \"0f3aca12-dc48-459d-ac35-d8592b818f55\",\n",
      "    \"info\": \"Event from a Jupyter Analysis\",\n",
      "    \"distribution\": \"0\",\n",
      "    \"threat_level_id\": \"1\",\n",
      "    \"analysis\": \"0\",\n",
      "    \"published\": false,\n",
      "    \"date\": \"2024-12-03\",\n",
      "    \"id\": \"10\",\n",
      "    \"orgc_id\": \"1\",\n",
      "    \"org_id\": \"1\",\n",
      "    \"timestamp\": \"1733255368\",\n",
      "    \"publish_timestamp\": \"0\",\n",
      "    \"sharing_group_id\": \"0\",\n",
      "    \"Org\": {\n",
      "        \"id\": \"1\",\n",
      "        \"name\": \"ADMIN\",\n",
      "        \"uuid\": \"d0108972-fabc-4deb-9ab4-f26045dda3e0\",\n",
      "        \"local\": true\n",
      "    },\n",
      "    \"Orgc\": {\n",
      "        \"id\": \"1\",\n",
      "        \"name\": \"ADMIN\",\n",
      "        \"uuid\": \"d0108972-fabc-4deb-9ab4-f26045dda3e0\",\n",
      "        \"local\": true\n",
      "    },\n",
      "    \"attribute_count\": \"0\",\n",
      "    \"proposal_email_lock\": false,\n",
      "    \"locked\": false,\n",
      "    \"disable_correlation\": false,\n",
      "    \"extends_uuid\": \"\",\n",
      "    \"event_creator_email\": \"nazareno.duarte@gmail.com\"\n",
      "}\n"
     ]
    }
   ],
   "source": [
    "from pymisp import MISPEvent\n",
    "\n",
    "event = MISPEvent()\n",
    "event.distribution = '0'\n",
    "event.threat_level_id = '1'\n",
    "event.analysis = '0'\n",
    "event.info = 'Event from a Jupyter Analysis'\n",
    "event.attributes = []\n",
    "\n",
    "created = None\n",
    "\n",
    "try:\n",
    "    created = misp.add_event(event, pythonify=True)\n",
    "    print(f'Event created; {created.to_json(indent=4)}')\n",
    "except Exception as e:\n",
    "    print(f'If we se this, an error ocurred {repr(e)}')"
   ]
  },
  {
   "cell_type": "markdown",
   "metadata": {},
   "source": [
    "Finally, let's se a list of the events, again."
   ]
  },
  {
   "cell_type": "code",
   "execution_count": 3,
   "metadata": {},
   "outputs": [
    {
     "name": "stdout",
     "output_type": "stream",
     "text": [
      "Event: {\n",
      "    \"uuid\": \"4df8e7dc-49a3-4a08-a586-5c5b3616982a\",\n",
      "    \"info\": \"Test Event\",\n",
      "    \"distribution\": \"0\",\n",
      "    \"threat_level_id\": \"1\",\n",
      "    \"analysis\": \"0\",\n",
      "    \"published\": false,\n",
      "    \"date\": \"2024-12-03\",\n",
      "    \"id\": \"9\",\n",
      "    \"orgc_id\": \"1\",\n",
      "    \"org_id\": \"1\",\n",
      "    \"timestamp\": \"1733254718\",\n",
      "    \"publish_timestamp\": \"0\",\n",
      "    \"sighting_timestamp\": \"0\",\n",
      "    \"sharing_group_id\": \"0\",\n",
      "    \"Org\": {\n",
      "        \"id\": \"1\",\n",
      "        \"name\": \"ADMIN\",\n",
      "        \"uuid\": \"d0108972-fabc-4deb-9ab4-f26045dda3e0\"\n",
      "    },\n",
      "    \"Orgc\": {\n",
      "        \"id\": \"1\",\n",
      "        \"name\": \"ADMIN\",\n",
      "        \"uuid\": \"d0108972-fabc-4deb-9ab4-f26045dda3e0\"\n",
      "    },\n",
      "    \"attribute_count\": \"1\",\n",
      "    \"proposal_email_lock\": false,\n",
      "    \"locked\": false,\n",
      "    \"disable_correlation\": false,\n",
      "    \"extends_uuid\": \"\"\n",
      "}\n",
      "Event: {\n",
      "    \"uuid\": \"0f3aca12-dc48-459d-ac35-d8592b818f55\",\n",
      "    \"info\": \"Event from a Jupyter Analysis\",\n",
      "    \"distribution\": \"0\",\n",
      "    \"threat_level_id\": \"1\",\n",
      "    \"analysis\": \"0\",\n",
      "    \"published\": false,\n",
      "    \"date\": \"2024-12-03\",\n",
      "    \"id\": \"10\",\n",
      "    \"orgc_id\": \"1\",\n",
      "    \"org_id\": \"1\",\n",
      "    \"timestamp\": \"1733255368\",\n",
      "    \"publish_timestamp\": \"0\",\n",
      "    \"sighting_timestamp\": \"0\",\n",
      "    \"sharing_group_id\": \"0\",\n",
      "    \"Org\": {\n",
      "        \"id\": \"1\",\n",
      "        \"name\": \"ADMIN\",\n",
      "        \"uuid\": \"d0108972-fabc-4deb-9ab4-f26045dda3e0\"\n",
      "    },\n",
      "    \"Orgc\": {\n",
      "        \"id\": \"1\",\n",
      "        \"name\": \"ADMIN\",\n",
      "        \"uuid\": \"d0108972-fabc-4deb-9ab4-f26045dda3e0\"\n",
      "    },\n",
      "    \"attribute_count\": \"0\",\n",
      "    \"proposal_email_lock\": false,\n",
      "    \"locked\": false,\n",
      "    \"disable_correlation\": false,\n",
      "    \"extends_uuid\": \"\"\n",
      "}\n"
     ]
    }
   ],
   "source": [
    "events = misp.events(pythonify=True)\n",
    "\n",
    "for e in events:\n",
    "    print(f'Event: {e.to_json(indent=4)}')"
   ]
  },
  {
   "cell_type": "markdown",
   "metadata": {},
   "source": [
    "Now we gonna try to remove all event created in te steps above."
   ]
  },
  {
   "cell_type": "code",
   "execution_count": 4,
   "metadata": {},
   "outputs": [
    {
     "name": "stdout",
     "output_type": "stream",
     "text": [
      "Event deleted: 4df8e7dc-49a3-4a08-a586-5c5b3616982a\n",
      "Event deleted: 0f3aca12-dc48-459d-ac35-d8592b818f55\n"
     ]
    }
   ],
   "source": [
    "events = misp.events(pythonify=True)\n",
    "\n",
    "for e in events:\n",
    "    try:\n",
    "        misp.delete_event(e.uuid)\n",
    "        print(f'Event deleted: {e.uuid}')\n",
    "    except Exception as e:\n",
    "        print(f'If we see this, an error has occured: {repr(e)}')"
   ]
  }
 ],
 "metadata": {
  "kernelspec": {
   "display_name": ".env",
   "language": "python",
   "name": "python3"
  },
  "language_info": {
   "codemirror_mode": {
    "name": "ipython",
    "version": 3
   },
   "file_extension": ".py",
   "mimetype": "text/x-python",
   "name": "python",
   "nbconvert_exporter": "python",
   "pygments_lexer": "ipython3",
   "version": "3.11.2"
  }
 },
 "nbformat": 4,
 "nbformat_minor": 2
}
